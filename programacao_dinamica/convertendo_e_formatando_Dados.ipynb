{
 "cells": [
  {
   "cell_type": "markdown",
   "metadata": {},
   "source": [
    "# Conversão e Formatação de colunas no Pandas"
   ]
  },
  {
   "cell_type": "markdown",
   "metadata": {},
   "source": [
    "Dataset disponível para download em : https://dados.gov.br/dataset/b-importacoes-e-exportacoes-de-petroleo\n",
    "\n",
    "Link para download do dataset: https://www.gov.br/anp/pt-br/centrais-de-conteudo/dados-abertos/arquivos/ie/petroleo/importacoes-exportacoes-petroleo-2000-2022.csv"
   ]
  },
  {
   "cell_type": "code",
   "execution_count": 2,
   "metadata": {},
   "outputs": [],
   "source": [
    "import pandas as pd"
   ]
  },
  {
   "cell_type": "code",
   "execution_count": 7,
   "metadata": {},
   "outputs": [],
   "source": [
    "imp_exp_petroleo = pd.read_csv('./dados/importacoes-exportacoes-petroleo-2000-2022.csv', encoding=\"UTF-8\", sep=';')"
   ]
  },
  {
   "cell_type": "code",
   "execution_count": 8,
   "metadata": {},
   "outputs": [
    {
     "data": {
      "text/html": [
       "<div>\n",
       "<style scoped>\n",
       "    .dataframe tbody tr th:only-of-type {\n",
       "        vertical-align: middle;\n",
       "    }\n",
       "\n",
       "    .dataframe tbody tr th {\n",
       "        vertical-align: top;\n",
       "    }\n",
       "\n",
       "    .dataframe thead th {\n",
       "        text-align: right;\n",
       "    }\n",
       "</style>\n",
       "<table border=\"1\" class=\"dataframe\">\n",
       "  <thead>\n",
       "    <tr style=\"text-align: right;\">\n",
       "      <th></th>\n",
       "      <th>ANO</th>\n",
       "      <th>MÊS</th>\n",
       "      <th>PRODUTO</th>\n",
       "      <th>OPERAÇÃO COMERCIAL</th>\n",
       "      <th>IMPORTADO / EXPORTADO</th>\n",
       "      <th>DISPÊNDIO / RECEITA</th>\n",
       "    </tr>\n",
       "  </thead>\n",
       "  <tbody>\n",
       "    <tr>\n",
       "      <th>0</th>\n",
       "      <td>2000</td>\n",
       "      <td>ABR</td>\n",
       "      <td>PETRÓLEO</td>\n",
       "      <td>EXPORTAÇÃO</td>\n",
       "      <td>0</td>\n",
       "      <td>0</td>\n",
       "    </tr>\n",
       "    <tr>\n",
       "      <th>1</th>\n",
       "      <td>2000</td>\n",
       "      <td>AGO</td>\n",
       "      <td>PETRÓLEO</td>\n",
       "      <td>EXPORTAÇÃO</td>\n",
       "      <td>0</td>\n",
       "      <td>0</td>\n",
       "    </tr>\n",
       "    <tr>\n",
       "      <th>2</th>\n",
       "      <td>2000</td>\n",
       "      <td>DEZ</td>\n",
       "      <td>PETRÓLEO</td>\n",
       "      <td>EXPORTAÇÃO</td>\n",
       "      <td>419950,4202</td>\n",
       "      <td>59930153</td>\n",
       "    </tr>\n",
       "    <tr>\n",
       "      <th>3</th>\n",
       "      <td>2000</td>\n",
       "      <td>FEV</td>\n",
       "      <td>PETRÓLEO</td>\n",
       "      <td>EXPORTAÇÃO</td>\n",
       "      <td>0,068537786</td>\n",
       "      <td>51</td>\n",
       "    </tr>\n",
       "    <tr>\n",
       "      <th>4</th>\n",
       "      <td>2000</td>\n",
       "      <td>JAN</td>\n",
       "      <td>PETRÓLEO</td>\n",
       "      <td>EXPORTAÇÃO</td>\n",
       "      <td>0</td>\n",
       "      <td>0</td>\n",
       "    </tr>\n",
       "  </tbody>\n",
       "</table>\n",
       "</div>"
      ],
      "text/plain": [
       "    ANO  MÊS   PRODUTO OPERAÇÃO COMERCIAL IMPORTADO / EXPORTADO  \\\n",
       "0  2000  ABR  PETRÓLEO         EXPORTAÇÃO                     0   \n",
       "1  2000  AGO  PETRÓLEO         EXPORTAÇÃO                     0   \n",
       "2  2000  DEZ  PETRÓLEO         EXPORTAÇÃO           419950,4202   \n",
       "3  2000  FEV  PETRÓLEO         EXPORTAÇÃO           0,068537786   \n",
       "4  2000  JAN  PETRÓLEO         EXPORTAÇÃO                     0   \n",
       "\n",
       "   DISPÊNDIO / RECEITA  \n",
       "0                    0  \n",
       "1                    0  \n",
       "2             59930153  \n",
       "3                   51  \n",
       "4                    0  "
      ]
     },
     "execution_count": 8,
     "metadata": {},
     "output_type": "execute_result"
    }
   ],
   "source": [
    "imp_exp_petroleo.head()"
   ]
  },
  {
   "cell_type": "code",
   "execution_count": 9,
   "metadata": {},
   "outputs": [
    {
     "name": "stdout",
     "output_type": "stream",
     "text": [
      "<class 'pandas.core.frame.DataFrame'>\n",
      "RangeIndex: 530 entries, 0 to 529\n",
      "Data columns (total 6 columns):\n",
      " #   Column                 Non-Null Count  Dtype \n",
      "---  ------                 --------------  ----- \n",
      " 0   ANO                    530 non-null    int64 \n",
      " 1   MÊS                    530 non-null    object\n",
      " 2   PRODUTO                530 non-null    object\n",
      " 3   OPERAÇÃO COMERCIAL     530 non-null    object\n",
      " 4   IMPORTADO / EXPORTADO  530 non-null    object\n",
      " 5   DISPÊNDIO / RECEITA    530 non-null    int64 \n",
      "dtypes: int64(2), object(4)\n",
      "memory usage: 25.0+ KB\n"
     ]
    }
   ],
   "source": [
    "# Verificando o tipo de dado\n",
    "imp_exp_petroleo.info()"
   ]
  },
  {
   "cell_type": "code",
   "execution_count": null,
   "metadata": {},
   "outputs": [],
   "source": [
    "# imp_exp_petroleo['IMPORTADO / EXPORTADO'].mean()"
   ]
  },
  {
   "cell_type": "markdown",
   "metadata": {},
   "source": [
    "Convertendo o tipo da coluna IMPORTADO/EXPORTADO para float"
   ]
  },
  {
   "cell_type": "code",
   "execution_count": 12,
   "metadata": {},
   "outputs": [],
   "source": [
    "# imp_exp_petroleo['IMPORTADO / EXPORTADO'].astype('float64')\n",
    "imp_exp_petroleo['IMPORTADO / EXPORTADO'] = imp_exp_petroleo['IMPORTADO / EXPORTADO'].apply(lambda x: str(x).replace(\",\",\".\"))"
   ]
  },
  {
   "cell_type": "code",
   "execution_count": 13,
   "metadata": {},
   "outputs": [
    {
     "data": {
      "text/plain": [
       "0                0\n",
       "1                0\n",
       "2      419950.4202\n",
       "3      0.068537786\n",
       "4                0\n",
       "          ...     \n",
       "525    757670.1035\n",
       "526    614189.3518\n",
       "527    740044.9718\n",
       "528    5235034.172\n",
       "529    1031858.447\n",
       "Name: IMPORTADO / EXPORTADO, Length: 530, dtype: object"
      ]
     },
     "execution_count": 13,
     "metadata": {},
     "output_type": "execute_result"
    }
   ],
   "source": [
    "imp_exp_petroleo['IMPORTADO / EXPORTADO']"
   ]
  },
  {
   "cell_type": "code",
   "execution_count": 21,
   "metadata": {},
   "outputs": [],
   "source": [
    "#Conversão em uma cópia da coluna\n",
    "#imp_exp_petroleo['IMPORTADO / EXPORTADO'].astype('float64')\n",
    "\n",
    "#Conversão na coluna\n",
    "imp_exp_petroleo['IMPORTADO / EXPORTADO'] = imp_exp_petroleo['IMPORTADO / EXPORTADO'].astype('float64')"
   ]
  },
  {
   "cell_type": "code",
   "execution_count": 22,
   "metadata": {},
   "outputs": [
    {
     "data": {
      "text/plain": [
       "2218676.897947876"
      ]
     },
     "execution_count": 22,
     "metadata": {},
     "output_type": "execute_result"
    }
   ],
   "source": [
    "imp_exp_petroleo['IMPORTADO / EXPORTADO'].mean()"
   ]
  },
  {
   "cell_type": "code",
   "execution_count": 23,
   "metadata": {},
   "outputs": [
    {
     "data": {
      "text/plain": [
       "<AxesSubplot:>"
      ]
     },
     "execution_count": 23,
     "metadata": {},
     "output_type": "execute_result"
    },
    {
     "data": {
      "image/png": "[encoded data removed]",
      "text/plain": [
       "<Figure size 432x288 with 1 Axes>"
      ]
     },
     "metadata": {
      "needs_background": "light"
     },
     "output_type": "display_data"
    }
   ],
   "source": [
    "imp_exp_petroleo['IMPORTADO / EXPORTADO'].plot()"
   ]
  }
 ],
 "metadata": {
  "interpreter": {
   "hash": "4464d9dbd23fbf691df6160c681b6e824ad6882177b08227e79276068f1fbeac"
  },
  "kernelspec": {
   "display_name": "Python 3.10.2 64-bit (windows store)",
   "language": "python",
   "name": "python3"
  },
  "language_info": {
   "codemirror_mode": {
    "name": "ipython",
    "version": 3
   },
   "file_extension": ".py",
   "mimetype": "text/x-python",
   "name": "python",
   "nbconvert_exporter": "python",
   "pygments_lexer": "ipython3",
   "version": "3.10.2"
  },
  "orig_nbformat": 4
 },
 "nbformat": 4,
 "nbformat_minor": 2
}
