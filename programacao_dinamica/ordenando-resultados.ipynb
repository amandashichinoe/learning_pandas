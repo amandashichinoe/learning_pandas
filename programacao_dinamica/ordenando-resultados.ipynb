{
 "cells": [
  {
   "cell_type": "markdown",
   "metadata": {},
   "source": [
    "# Ordenando o resuldado do método describe()"
   ]
  },
  {
   "cell_type": "markdown",
   "metadata": {},
   "source": [
    "Dataset disponível para download em : https://dados.gov.br/dataset/b-importacoes-e-exportacoes-de-petroleo\n",
    "\n",
    "Link para download do dataset: https://www.gov.br/anp/pt-br/centrais-de-conteudo/dados-abertos/arquivos/ie/petroleo/importacoes-exportacoes-petroleo-2000-2022.csv"
   ]
  },
  {
   "cell_type": "code",
   "execution_count": 2,
   "metadata": {},
   "outputs": [],
   "source": [
    "import pandas as pd"
   ]
  },
  {
   "cell_type": "code",
   "execution_count": 3,
   "metadata": {},
   "outputs": [],
   "source": [
    "imp_exp_petroleo = pd.read_csv('./dados/importacoes-exportacoes-petroleo-2000-2022.csv', encoding=\"UTF-8\", sep=';')"
   ]
  },
  {
   "cell_type": "code",
   "execution_count": 4,
   "metadata": {},
   "outputs": [
    {
     "data": {
      "text/html": [
       "<div>\n",
       "<style scoped>\n",
       "    .dataframe tbody tr th:only-of-type {\n",
       "        vertical-align: middle;\n",
       "    }\n",
       "\n",
       "    .dataframe tbody tr th {\n",
       "        vertical-align: top;\n",
       "    }\n",
       "\n",
       "    .dataframe thead th {\n",
       "        text-align: right;\n",
       "    }\n",
       "</style>\n",
       "<table border=\"1\" class=\"dataframe\">\n",
       "  <thead>\n",
       "    <tr style=\"text-align: right;\">\n",
       "      <th></th>\n",
       "      <th>ANO</th>\n",
       "      <th>MÊS</th>\n",
       "      <th>PRODUTO</th>\n",
       "      <th>OPERAÇÃO COMERCIAL</th>\n",
       "      <th>IMPORTADO / EXPORTADO</th>\n",
       "      <th>DISPÊNDIO / RECEITA</th>\n",
       "    </tr>\n",
       "  </thead>\n",
       "  <tbody>\n",
       "    <tr>\n",
       "      <th>0</th>\n",
       "      <td>2000</td>\n",
       "      <td>ABR</td>\n",
       "      <td>PETRÓLEO</td>\n",
       "      <td>EXPORTAÇÃO</td>\n",
       "      <td>0</td>\n",
       "      <td>0</td>\n",
       "    </tr>\n",
       "    <tr>\n",
       "      <th>1</th>\n",
       "      <td>2000</td>\n",
       "      <td>AGO</td>\n",
       "      <td>PETRÓLEO</td>\n",
       "      <td>EXPORTAÇÃO</td>\n",
       "      <td>0</td>\n",
       "      <td>0</td>\n",
       "    </tr>\n",
       "    <tr>\n",
       "      <th>2</th>\n",
       "      <td>2000</td>\n",
       "      <td>DEZ</td>\n",
       "      <td>PETRÓLEO</td>\n",
       "      <td>EXPORTAÇÃO</td>\n",
       "      <td>419950,4202</td>\n",
       "      <td>59930153</td>\n",
       "    </tr>\n",
       "    <tr>\n",
       "      <th>3</th>\n",
       "      <td>2000</td>\n",
       "      <td>FEV</td>\n",
       "      <td>PETRÓLEO</td>\n",
       "      <td>EXPORTAÇÃO</td>\n",
       "      <td>0,068537786</td>\n",
       "      <td>51</td>\n",
       "    </tr>\n",
       "    <tr>\n",
       "      <th>4</th>\n",
       "      <td>2000</td>\n",
       "      <td>JAN</td>\n",
       "      <td>PETRÓLEO</td>\n",
       "      <td>EXPORTAÇÃO</td>\n",
       "      <td>0</td>\n",
       "      <td>0</td>\n",
       "    </tr>\n",
       "  </tbody>\n",
       "</table>\n",
       "</div>"
      ],
      "text/plain": [
       "    ANO  MÊS   PRODUTO OPERAÇÃO COMERCIAL IMPORTADO / EXPORTADO  \\\n",
       "0  2000  ABR  PETRÓLEO         EXPORTAÇÃO                     0   \n",
       "1  2000  AGO  PETRÓLEO         EXPORTAÇÃO                     0   \n",
       "2  2000  DEZ  PETRÓLEO         EXPORTAÇÃO           419950,4202   \n",
       "3  2000  FEV  PETRÓLEO         EXPORTAÇÃO           0,068537786   \n",
       "4  2000  JAN  PETRÓLEO         EXPORTAÇÃO                     0   \n",
       "\n",
       "   DISPÊNDIO / RECEITA  \n",
       "0                    0  \n",
       "1                    0  \n",
       "2             59930153  \n",
       "3                   51  \n",
       "4                    0  "
      ]
     },
     "execution_count": 4,
     "metadata": {},
     "output_type": "execute_result"
    }
   ],
   "source": [
    "imp_exp_petroleo.head()"
   ]
  },
  {
   "cell_type": "code",
   "execution_count": 5,
   "metadata": {},
   "outputs": [
    {
     "data": {
      "text/html": [
       "<div>\n",
       "<style scoped>\n",
       "    .dataframe tbody tr th:only-of-type {\n",
       "        vertical-align: middle;\n",
       "    }\n",
       "\n",
       "    .dataframe tbody tr th {\n",
       "        vertical-align: top;\n",
       "    }\n",
       "\n",
       "    .dataframe thead th {\n",
       "        text-align: right;\n",
       "    }\n",
       "</style>\n",
       "<table border=\"1\" class=\"dataframe\">\n",
       "  <thead>\n",
       "    <tr style=\"text-align: right;\">\n",
       "      <th></th>\n",
       "      <th>ANO</th>\n",
       "      <th>DISPÊNDIO / RECEITA</th>\n",
       "    </tr>\n",
       "  </thead>\n",
       "  <tbody>\n",
       "    <tr>\n",
       "      <th>count</th>\n",
       "      <td>530.000000</td>\n",
       "      <td>5.300000e+02</td>\n",
       "    </tr>\n",
       "    <tr>\n",
       "      <th>mean</th>\n",
       "      <td>2010.543396</td>\n",
       "      <td>8.577775e+08</td>\n",
       "    </tr>\n",
       "    <tr>\n",
       "      <th>std</th>\n",
       "      <td>6.377462</td>\n",
       "      <td>6.839428e+08</td>\n",
       "    </tr>\n",
       "    <tr>\n",
       "      <th>min</th>\n",
       "      <td>2000.000000</td>\n",
       "      <td>0.000000e+00</td>\n",
       "    </tr>\n",
       "    <tr>\n",
       "      <th>25%</th>\n",
       "      <td>2005.000000</td>\n",
       "      <td>3.184466e+08</td>\n",
       "    </tr>\n",
       "    <tr>\n",
       "      <th>50%</th>\n",
       "      <td>2011.000000</td>\n",
       "      <td>6.910523e+08</td>\n",
       "    </tr>\n",
       "    <tr>\n",
       "      <th>75%</th>\n",
       "      <td>2016.000000</td>\n",
       "      <td>1.263468e+09</td>\n",
       "    </tr>\n",
       "    <tr>\n",
       "      <th>max</th>\n",
       "      <td>2022.000000</td>\n",
       "      <td>3.743887e+09</td>\n",
       "    </tr>\n",
       "  </tbody>\n",
       "</table>\n",
       "</div>"
      ],
      "text/plain": [
       "               ANO  DISPÊNDIO / RECEITA\n",
       "count   530.000000         5.300000e+02\n",
       "mean   2010.543396         8.577775e+08\n",
       "std       6.377462         6.839428e+08\n",
       "min    2000.000000         0.000000e+00\n",
       "25%    2005.000000         3.184466e+08\n",
       "50%    2011.000000         6.910523e+08\n",
       "75%    2016.000000         1.263468e+09\n",
       "max    2022.000000         3.743887e+09"
      ]
     },
     "execution_count": 5,
     "metadata": {},
     "output_type": "execute_result"
    }
   ],
   "source": [
    "imp_exp_petroleo.describe()"
   ]
  },
  {
   "cell_type": "code",
   "execution_count": 6,
   "metadata": {},
   "outputs": [
    {
     "name": "stdout",
     "output_type": "stream",
     "text": [
      "<class 'pandas.core.frame.DataFrame'>\n",
      "RangeIndex: 530 entries, 0 to 529\n",
      "Data columns (total 6 columns):\n",
      " #   Column                 Non-Null Count  Dtype \n",
      "---  ------                 --------------  ----- \n",
      " 0   ANO                    530 non-null    int64 \n",
      " 1   MÊS                    530 non-null    object\n",
      " 2   PRODUTO                530 non-null    object\n",
      " 3   OPERAÇÃO COMERCIAL     530 non-null    object\n",
      " 4   IMPORTADO / EXPORTADO  530 non-null    object\n",
      " 5   DISPÊNDIO / RECEITA    530 non-null    int64 \n",
      "dtypes: int64(2), object(4)\n",
      "memory usage: 25.0+ KB\n"
     ]
    }
   ],
   "source": [
    "imp_exp_petroleo.info()"
   ]
  },
  {
   "cell_type": "code",
   "execution_count": 8,
   "metadata": {},
   "outputs": [
    {
     "data": {
      "text/html": [
       "<div>\n",
       "<style scoped>\n",
       "    .dataframe tbody tr th:only-of-type {\n",
       "        vertical-align: middle;\n",
       "    }\n",
       "\n",
       "    .dataframe tbody tr th {\n",
       "        vertical-align: top;\n",
       "    }\n",
       "\n",
       "    .dataframe thead th {\n",
       "        text-align: right;\n",
       "    }\n",
       "</style>\n",
       "<table border=\"1\" class=\"dataframe\">\n",
       "  <thead>\n",
       "    <tr style=\"text-align: right;\">\n",
       "      <th></th>\n",
       "      <th>ANO</th>\n",
       "      <th>DISPÊNDIO / RECEITA</th>\n",
       "    </tr>\n",
       "  </thead>\n",
       "  <tbody>\n",
       "    <tr>\n",
       "      <th>count</th>\n",
       "      <td>530.000000</td>\n",
       "      <td>5.300000e+02</td>\n",
       "    </tr>\n",
       "    <tr>\n",
       "      <th>mean</th>\n",
       "      <td>2010.543396</td>\n",
       "      <td>8.577775e+08</td>\n",
       "    </tr>\n",
       "    <tr>\n",
       "      <th>std</th>\n",
       "      <td>6.377462</td>\n",
       "      <td>6.839428e+08</td>\n",
       "    </tr>\n",
       "    <tr>\n",
       "      <th>min</th>\n",
       "      <td>2000.000000</td>\n",
       "      <td>0.000000e+00</td>\n",
       "    </tr>\n",
       "    <tr>\n",
       "      <th>25%</th>\n",
       "      <td>2005.000000</td>\n",
       "      <td>3.184466e+08</td>\n",
       "    </tr>\n",
       "    <tr>\n",
       "      <th>50%</th>\n",
       "      <td>2011.000000</td>\n",
       "      <td>6.910523e+08</td>\n",
       "    </tr>\n",
       "    <tr>\n",
       "      <th>75%</th>\n",
       "      <td>2016.000000</td>\n",
       "      <td>1.263468e+09</td>\n",
       "    </tr>\n",
       "    <tr>\n",
       "      <th>max</th>\n",
       "      <td>2022.000000</td>\n",
       "      <td>3.743887e+09</td>\n",
       "    </tr>\n",
       "  </tbody>\n",
       "</table>\n",
       "</div>"
      ],
      "text/plain": [
       "               ANO  DISPÊNDIO / RECEITA\n",
       "count   530.000000         5.300000e+02\n",
       "mean   2010.543396         8.577775e+08\n",
       "std       6.377462         6.839428e+08\n",
       "min    2000.000000         0.000000e+00\n",
       "25%    2005.000000         3.184466e+08\n",
       "50%    2011.000000         6.910523e+08\n",
       "75%    2016.000000         1.263468e+09\n",
       "max    2022.000000         3.743887e+09"
      ]
     },
     "execution_count": 8,
     "metadata": {},
     "output_type": "execute_result"
    }
   ],
   "source": [
    "# DataFrame.sort_values(self,by,axis=0,ascending=True,inplace=False,kind='quicksort',na_position='last',ignore_index=False)\n",
    "\n",
    "imp_exp_petroleo.describe().sort_values(by='mean', axis=1)"
   ]
  },
  {
   "cell_type": "code",
   "execution_count": 9,
   "metadata": {},
   "outputs": [
    {
     "data": {
      "text/html": [
       "<div>\n",
       "<style scoped>\n",
       "    .dataframe tbody tr th:only-of-type {\n",
       "        vertical-align: middle;\n",
       "    }\n",
       "\n",
       "    .dataframe tbody tr th {\n",
       "        vertical-align: top;\n",
       "    }\n",
       "\n",
       "    .dataframe thead th {\n",
       "        text-align: right;\n",
       "    }\n",
       "</style>\n",
       "<table border=\"1\" class=\"dataframe\">\n",
       "  <thead>\n",
       "    <tr style=\"text-align: right;\">\n",
       "      <th></th>\n",
       "      <th>count</th>\n",
       "      <th>mean</th>\n",
       "      <th>std</th>\n",
       "      <th>min</th>\n",
       "      <th>25%</th>\n",
       "      <th>50%</th>\n",
       "      <th>75%</th>\n",
       "      <th>max</th>\n",
       "    </tr>\n",
       "  </thead>\n",
       "  <tbody>\n",
       "    <tr>\n",
       "      <th>ANO</th>\n",
       "      <td>530.0</td>\n",
       "      <td>2.010543e+03</td>\n",
       "      <td>6.377462e+00</td>\n",
       "      <td>2000.0</td>\n",
       "      <td>2005.0</td>\n",
       "      <td>2011.0</td>\n",
       "      <td>2.016000e+03</td>\n",
       "      <td>2.022000e+03</td>\n",
       "    </tr>\n",
       "    <tr>\n",
       "      <th>DISPÊNDIO / RECEITA</th>\n",
       "      <td>530.0</td>\n",
       "      <td>8.577775e+08</td>\n",
       "      <td>6.839428e+08</td>\n",
       "      <td>0.0</td>\n",
       "      <td>318446614.0</td>\n",
       "      <td>691052316.0</td>\n",
       "      <td>1.263468e+09</td>\n",
       "      <td>3.743887e+09</td>\n",
       "    </tr>\n",
       "  </tbody>\n",
       "</table>\n",
       "</div>"
      ],
      "text/plain": [
       "                     count          mean           std     min          25%  \\\n",
       "ANO                  530.0  2.010543e+03  6.377462e+00  2000.0       2005.0   \n",
       "DISPÊNDIO / RECEITA  530.0  8.577775e+08  6.839428e+08     0.0  318446614.0   \n",
       "\n",
       "                             50%           75%           max  \n",
       "ANO                       2011.0  2.016000e+03  2.022000e+03  \n",
       "DISPÊNDIO / RECEITA  691052316.0  1.263468e+09  3.743887e+09  "
      ]
     },
     "execution_count": 9,
     "metadata": {},
     "output_type": "execute_result"
    }
   ],
   "source": [
    "imp_exp_petroleo.describe().T"
   ]
  },
  {
   "cell_type": "code",
   "execution_count": 10,
   "metadata": {},
   "outputs": [
    {
     "data": {
      "text/html": [
       "<div>\n",
       "<style scoped>\n",
       "    .dataframe tbody tr th:only-of-type {\n",
       "        vertical-align: middle;\n",
       "    }\n",
       "\n",
       "    .dataframe tbody tr th {\n",
       "        vertical-align: top;\n",
       "    }\n",
       "\n",
       "    .dataframe thead th {\n",
       "        text-align: right;\n",
       "    }\n",
       "</style>\n",
       "<table border=\"1\" class=\"dataframe\">\n",
       "  <thead>\n",
       "    <tr style=\"text-align: right;\">\n",
       "      <th></th>\n",
       "      <th>count</th>\n",
       "      <th>mean</th>\n",
       "      <th>std</th>\n",
       "      <th>min</th>\n",
       "      <th>25%</th>\n",
       "      <th>50%</th>\n",
       "      <th>75%</th>\n",
       "      <th>max</th>\n",
       "    </tr>\n",
       "  </thead>\n",
       "  <tbody>\n",
       "    <tr>\n",
       "      <th>ANO</th>\n",
       "      <td>530.0</td>\n",
       "      <td>2.010543e+03</td>\n",
       "      <td>6.377462e+00</td>\n",
       "      <td>2000.0</td>\n",
       "      <td>2005.0</td>\n",
       "      <td>2011.0</td>\n",
       "      <td>2.016000e+03</td>\n",
       "      <td>2.022000e+03</td>\n",
       "    </tr>\n",
       "    <tr>\n",
       "      <th>DISPÊNDIO / RECEITA</th>\n",
       "      <td>530.0</td>\n",
       "      <td>8.577775e+08</td>\n",
       "      <td>6.839428e+08</td>\n",
       "      <td>0.0</td>\n",
       "      <td>318446614.0</td>\n",
       "      <td>691052316.0</td>\n",
       "      <td>1.263468e+09</td>\n",
       "      <td>3.743887e+09</td>\n",
       "    </tr>\n",
       "  </tbody>\n",
       "</table>\n",
       "</div>"
      ],
      "text/plain": [
       "                     count          mean           std     min          25%  \\\n",
       "ANO                  530.0  2.010543e+03  6.377462e+00  2000.0       2005.0   \n",
       "DISPÊNDIO / RECEITA  530.0  8.577775e+08  6.839428e+08     0.0  318446614.0   \n",
       "\n",
       "                             50%           75%           max  \n",
       "ANO                       2011.0  2.016000e+03  2.022000e+03  \n",
       "DISPÊNDIO / RECEITA  691052316.0  1.263468e+09  3.743887e+09  "
      ]
     },
     "execution_count": 10,
     "metadata": {},
     "output_type": "execute_result"
    }
   ],
   "source": [
    "imp_exp_petroleo.describe().T.sort_values(by='mean')"
   ]
  }
 ],
 "metadata": {
  "interpreter": {
   "hash": "4464d9dbd23fbf691df6160c681b6e824ad6882177b08227e79276068f1fbeac"
  },
  "kernelspec": {
   "display_name": "Python 3.10.2 64-bit (windows store)",
   "language": "python",
   "name": "python3"
  },
  "language_info": {
   "codemirror_mode": {
    "name": "ipython",
    "version": 3
   },
   "file_extension": ".py",
   "mimetype": "text/x-python",
   "name": "python",
   "nbconvert_exporter": "python",
   "pygments_lexer": "ipython3",
   "version": "3.10.2"
  },
  "orig_nbformat": 4
 },
 "nbformat": 4,
 "nbformat_minor": 2
}
