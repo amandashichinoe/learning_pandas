{
 "cells": [
  {
   "cell_type": "markdown",
   "metadata": {},
   "source": [
    "# Configurando a apresentação de um DataFrame"
   ]
  },
  {
   "cell_type": "code",
   "execution_count": 1,
   "metadata": {},
   "outputs": [],
   "source": [
    "import pandas as pd"
   ]
  },
  {
   "cell_type": "code",
   "execution_count": 2,
   "metadata": {},
   "outputs": [],
   "source": [
    "#vendas_etanol = pd.read_csv('./dados/vendas-derivados-petroleo-etanol-m3-1990-2022.csv',encoding='UTF-8', delimiter=';')\n",
    "oper_cred_estados_municipios = pd.read_csv('./dados/operacoes-credito-estados-municipios.csv',encoding='ISO-8859-1',delimiter=';')"
   ]
  },
  {
   "cell_type": "code",
   "execution_count": 4,
   "metadata": {},
   "outputs": [
    {
     "data": {
      "text/html": [
       "<div>\n",
       "<style scoped>\n",
       "    .dataframe tbody tr th:only-of-type {\n",
       "        vertical-align: middle;\n",
       "    }\n",
       "\n",
       "    .dataframe tbody tr th {\n",
       "        vertical-align: top;\n",
       "    }\n",
       "\n",
       "    .dataframe thead th {\n",
       "        text-align: right;\n",
       "    }\n",
       "</style>\n",
       "<table border=\"1\" class=\"dataframe\">\n",
       "  <thead>\n",
       "    <tr style=\"text-align: right;\">\n",
       "      <th></th>\n",
       "      <th>Interessado</th>\n",
       "      <th>UF</th>\n",
       "      <th>Tipo de interessado</th>\n",
       "      <th>Tipo de operação</th>\n",
       "      <th>Finalidade</th>\n",
       "      <th>Tipo de credor</th>\n",
       "      <th>Credor</th>\n",
       "      <th>Moeda</th>\n",
       "      <th>Valor</th>\n",
       "      <th>Número do Processo/PVL</th>\n",
       "      <th>Código IBGE</th>\n",
       "      <th>Status</th>\n",
       "      <th>Data</th>\n",
       "      <th>Analisado por</th>\n",
       "    </tr>\n",
       "  </thead>\n",
       "  <tbody>\n",
       "    <tr>\n",
       "      <th>0</th>\n",
       "      <td>Abadia dos Dourados</td>\n",
       "      <td>MG</td>\n",
       "      <td>Município</td>\n",
       "      <td>Operação Contratual Interna</td>\n",
       "      <td>Provias 2009</td>\n",
       "      <td>Instituição Financeira Nacional</td>\n",
       "      <td>Caixa Econômica Federal</td>\n",
       "      <td>Real</td>\n",
       "      <td>300.000,00</td>\n",
       "      <td>00000.000000/0021-94</td>\n",
       "      <td>3100104.0</td>\n",
       "      <td>Devolvido</td>\n",
       "      <td>19/08/2009</td>\n",
       "      <td>STN</td>\n",
       "    </tr>\n",
       "    <tr>\n",
       "      <th>1</th>\n",
       "      <td>Abadia dos Dourados</td>\n",
       "      <td>MG</td>\n",
       "      <td>Município</td>\n",
       "      <td>Operação Contratual Interna</td>\n",
       "      <td>Caminho da Escola</td>\n",
       "      <td>Instituição Financeira Nacional</td>\n",
       "      <td>Caixa Econômica Federal</td>\n",
       "      <td>Real</td>\n",
       "      <td>172.700,00</td>\n",
       "      <td>17944.000104/2008-22</td>\n",
       "      <td>3100104.0</td>\n",
       "      <td>Arquivado</td>\n",
       "      <td>17/04/2008</td>\n",
       "      <td>STN</td>\n",
       "    </tr>\n",
       "    <tr>\n",
       "      <th>2</th>\n",
       "      <td>Abadia dos Dourados</td>\n",
       "      <td>MG</td>\n",
       "      <td>Município</td>\n",
       "      <td>Operação Contratual Interna</td>\n",
       "      <td>Provias 2009</td>\n",
       "      <td>Instituição Financeira Nacional</td>\n",
       "      <td>Caixa Econômica Federal</td>\n",
       "      <td>Real</td>\n",
       "      <td>300.000,00</td>\n",
       "      <td>17944.000953/2009-67</td>\n",
       "      <td>3100104.0</td>\n",
       "      <td>Deferido</td>\n",
       "      <td>20/11/2009</td>\n",
       "      <td>STN</td>\n",
       "    </tr>\n",
       "    <tr>\n",
       "      <th>3</th>\n",
       "      <td>Abadia dos Dourados</td>\n",
       "      <td>MG</td>\n",
       "      <td>Município</td>\n",
       "      <td>Operação Contratual Interna</td>\n",
       "      <td>Caminho da Escola 2009 A</td>\n",
       "      <td>Instituição Financeira Nacional</td>\n",
       "      <td>Caixa Econômica Federal</td>\n",
       "      <td>Real</td>\n",
       "      <td>187.200,00</td>\n",
       "      <td>17944.001037/2009-44</td>\n",
       "      <td>3100104.0</td>\n",
       "      <td>Deferido</td>\n",
       "      <td>20/11/2009</td>\n",
       "      <td>STN</td>\n",
       "    </tr>\n",
       "    <tr>\n",
       "      <th>4</th>\n",
       "      <td>Abadia dos Dourados</td>\n",
       "      <td>MG</td>\n",
       "      <td>Município</td>\n",
       "      <td>Operação Contratual Interna</td>\n",
       "      <td>Aquisição de máquinas, equipamentos e veículos</td>\n",
       "      <td>Instituição Financeira Nacional</td>\n",
       "      <td>Banco de Desenvolvimento de Minas Gerais S/A</td>\n",
       "      <td>Real</td>\n",
       "      <td>1.000.000,00</td>\n",
       "      <td>17944.001324/2013-31</td>\n",
       "      <td>3100104.0</td>\n",
       "      <td>Deferido</td>\n",
       "      <td>06/11/2013</td>\n",
       "      <td>STN</td>\n",
       "    </tr>\n",
       "  </tbody>\n",
       "</table>\n",
       "</div>"
      ],
      "text/plain": [
       "           Interessado  UF Tipo de interessado             Tipo de operação  \\\n",
       "0  Abadia dos Dourados  MG           Município  Operação Contratual Interna   \n",
       "1  Abadia dos Dourados  MG           Município  Operação Contratual Interna   \n",
       "2  Abadia dos Dourados  MG           Município  Operação Contratual Interna   \n",
       "3  Abadia dos Dourados  MG           Município  Operação Contratual Interna   \n",
       "4  Abadia dos Dourados  MG           Município  Operação Contratual Interna   \n",
       "\n",
       "                                       Finalidade  \\\n",
       "0                                    Provias 2009   \n",
       "1                               Caminho da Escola   \n",
       "2                                    Provias 2009   \n",
       "3                        Caminho da Escola 2009 A   \n",
       "4  Aquisição de máquinas, equipamentos e veículos   \n",
       "\n",
       "                    Tipo de credor  \\\n",
       "0  Instituição Financeira Nacional   \n",
       "1  Instituição Financeira Nacional   \n",
       "2  Instituição Financeira Nacional   \n",
       "3  Instituição Financeira Nacional   \n",
       "4  Instituição Financeira Nacional   \n",
       "\n",
       "                                         Credor Moeda         Valor  \\\n",
       "0                       Caixa Econômica Federal  Real    300.000,00   \n",
       "1                       Caixa Econômica Federal  Real    172.700,00   \n",
       "2                       Caixa Econômica Federal  Real    300.000,00   \n",
       "3                       Caixa Econômica Federal  Real    187.200,00   \n",
       "4  Banco de Desenvolvimento de Minas Gerais S/A  Real  1.000.000,00   \n",
       "\n",
       "  Número do Processo/PVL  Código IBGE     Status        Data Analisado por  \n",
       "0   00000.000000/0021-94    3100104.0  Devolvido  19/08/2009           STN  \n",
       "1   17944.000104/2008-22    3100104.0  Arquivado  17/04/2008           STN  \n",
       "2   17944.000953/2009-67    3100104.0   Deferido  20/11/2009           STN  \n",
       "3   17944.001037/2009-44    3100104.0   Deferido  20/11/2009           STN  \n",
       "4   17944.001324/2013-31    3100104.0   Deferido  06/11/2013           STN  "
      ]
     },
     "execution_count": 4,
     "metadata": {},
     "output_type": "execute_result"
    }
   ],
   "source": [
    "#vendas_etanol\n",
    "oper_cred_estados_municipios.head()"
   ]
  },
  {
   "cell_type": "code",
   "execution_count": 5,
   "metadata": {},
   "outputs": [
    {
     "data": {
      "text/plain": [
       "50"
      ]
     },
     "execution_count": 5,
     "metadata": {},
     "output_type": "execute_result"
    }
   ],
   "source": [
    "# verificando o limite das colunas\n",
    "pd.get_option('max_colwidth')"
   ]
  },
  {
   "cell_type": "code",
   "execution_count": 6,
   "metadata": {},
   "outputs": [],
   "source": [
    "# Modificando o limite para as colunas\n",
    "pd.set_option('max_colwidth',None)"
   ]
  },
  {
   "cell_type": "code",
   "execution_count": 7,
   "metadata": {},
   "outputs": [
    {
     "data": {
      "text/plain": [
       "61"
      ]
     },
     "execution_count": 7,
     "metadata": {},
     "output_type": "execute_result"
    }
   ],
   "source": [
    "oper_cred_estados_municipios['Finalidade'].str.len().max()"
   ]
  },
  {
   "cell_type": "code",
   "execution_count": 8,
   "metadata": {},
   "outputs": [],
   "source": [
    "pd.set_option('max_colwidth',70)"
   ]
  },
  {
   "cell_type": "code",
   "execution_count": 9,
   "metadata": {},
   "outputs": [
    {
     "data": {
      "text/plain": [
       "20"
      ]
     },
     "execution_count": 9,
     "metadata": {},
     "output_type": "execute_result"
    }
   ],
   "source": [
    "pd.get_option('max_columns')"
   ]
  },
  {
   "cell_type": "code",
   "execution_count": 10,
   "metadata": {},
   "outputs": [
    {
     "data": {
      "text/plain": [
       "20"
      ]
     },
     "execution_count": 10,
     "metadata": {},
     "output_type": "execute_result"
    }
   ],
   "source": [
    "pd.get_option('max_columns',50)"
   ]
  },
  {
   "cell_type": "code",
   "execution_count": 11,
   "metadata": {},
   "outputs": [
    {
     "data": {
      "text/html": [
       "<div>\n",
       "<style scoped>\n",
       "    .dataframe tbody tr th:only-of-type {\n",
       "        vertical-align: middle;\n",
       "    }\n",
       "\n",
       "    .dataframe tbody tr th {\n",
       "        vertical-align: top;\n",
       "    }\n",
       "\n",
       "    .dataframe thead th {\n",
       "        text-align: right;\n",
       "    }\n",
       "</style>\n",
       "<table border=\"1\" class=\"dataframe\">\n",
       "  <thead>\n",
       "    <tr style=\"text-align: right;\">\n",
       "      <th></th>\n",
       "      <th>Interessado</th>\n",
       "      <th>UF</th>\n",
       "      <th>Tipo de interessado</th>\n",
       "      <th>Tipo de operação</th>\n",
       "      <th>Finalidade</th>\n",
       "      <th>Tipo de credor</th>\n",
       "      <th>Credor</th>\n",
       "      <th>Moeda</th>\n",
       "      <th>Valor</th>\n",
       "      <th>Número do Processo/PVL</th>\n",
       "      <th>Código IBGE</th>\n",
       "      <th>Status</th>\n",
       "      <th>Data</th>\n",
       "      <th>Analisado por</th>\n",
       "    </tr>\n",
       "  </thead>\n",
       "  <tbody>\n",
       "    <tr>\n",
       "      <th>0</th>\n",
       "      <td>Abadia dos Dourados</td>\n",
       "      <td>MG</td>\n",
       "      <td>Município</td>\n",
       "      <td>Operação Contratual Interna</td>\n",
       "      <td>Provias 2009</td>\n",
       "      <td>Instituição Financeira Nacional</td>\n",
       "      <td>Caixa Econômica Federal</td>\n",
       "      <td>Real</td>\n",
       "      <td>300.000,00</td>\n",
       "      <td>00000.000000/0021-94</td>\n",
       "      <td>3100104.0</td>\n",
       "      <td>Devolvido</td>\n",
       "      <td>19/08/2009</td>\n",
       "      <td>STN</td>\n",
       "    </tr>\n",
       "    <tr>\n",
       "      <th>1</th>\n",
       "      <td>Abadia dos Dourados</td>\n",
       "      <td>MG</td>\n",
       "      <td>Município</td>\n",
       "      <td>Operação Contratual Interna</td>\n",
       "      <td>Caminho da Escola</td>\n",
       "      <td>Instituição Financeira Nacional</td>\n",
       "      <td>Caixa Econômica Federal</td>\n",
       "      <td>Real</td>\n",
       "      <td>172.700,00</td>\n",
       "      <td>17944.000104/2008-22</td>\n",
       "      <td>3100104.0</td>\n",
       "      <td>Arquivado</td>\n",
       "      <td>17/04/2008</td>\n",
       "      <td>STN</td>\n",
       "    </tr>\n",
       "    <tr>\n",
       "      <th>2</th>\n",
       "      <td>Abadia dos Dourados</td>\n",
       "      <td>MG</td>\n",
       "      <td>Município</td>\n",
       "      <td>Operação Contratual Interna</td>\n",
       "      <td>Provias 2009</td>\n",
       "      <td>Instituição Financeira Nacional</td>\n",
       "      <td>Caixa Econômica Federal</td>\n",
       "      <td>Real</td>\n",
       "      <td>300.000,00</td>\n",
       "      <td>17944.000953/2009-67</td>\n",
       "      <td>3100104.0</td>\n",
       "      <td>Deferido</td>\n",
       "      <td>20/11/2009</td>\n",
       "      <td>STN</td>\n",
       "    </tr>\n",
       "    <tr>\n",
       "      <th>3</th>\n",
       "      <td>Abadia dos Dourados</td>\n",
       "      <td>MG</td>\n",
       "      <td>Município</td>\n",
       "      <td>Operação Contratual Interna</td>\n",
       "      <td>Caminho da Escola 2009 A</td>\n",
       "      <td>Instituição Financeira Nacional</td>\n",
       "      <td>Caixa Econômica Federal</td>\n",
       "      <td>Real</td>\n",
       "      <td>187.200,00</td>\n",
       "      <td>17944.001037/2009-44</td>\n",
       "      <td>3100104.0</td>\n",
       "      <td>Deferido</td>\n",
       "      <td>20/11/2009</td>\n",
       "      <td>STN</td>\n",
       "    </tr>\n",
       "    <tr>\n",
       "      <th>4</th>\n",
       "      <td>Abadia dos Dourados</td>\n",
       "      <td>MG</td>\n",
       "      <td>Município</td>\n",
       "      <td>Operação Contratual Interna</td>\n",
       "      <td>Aquisição de máquinas, equipamentos e veículos</td>\n",
       "      <td>Instituição Financeira Nacional</td>\n",
       "      <td>Banco de Desenvolvimento de Minas Gerais S/A</td>\n",
       "      <td>Real</td>\n",
       "      <td>1.000.000,00</td>\n",
       "      <td>17944.001324/2013-31</td>\n",
       "      <td>3100104.0</td>\n",
       "      <td>Deferido</td>\n",
       "      <td>06/11/2013</td>\n",
       "      <td>STN</td>\n",
       "    </tr>\n",
       "  </tbody>\n",
       "</table>\n",
       "</div>"
      ],
      "text/plain": [
       "           Interessado  UF Tipo de interessado             Tipo de operação  \\\n",
       "0  Abadia dos Dourados  MG           Município  Operação Contratual Interna   \n",
       "1  Abadia dos Dourados  MG           Município  Operação Contratual Interna   \n",
       "2  Abadia dos Dourados  MG           Município  Operação Contratual Interna   \n",
       "3  Abadia dos Dourados  MG           Município  Operação Contratual Interna   \n",
       "4  Abadia dos Dourados  MG           Município  Operação Contratual Interna   \n",
       "\n",
       "                                       Finalidade  \\\n",
       "0                                    Provias 2009   \n",
       "1                               Caminho da Escola   \n",
       "2                                    Provias 2009   \n",
       "3                        Caminho da Escola 2009 A   \n",
       "4  Aquisição de máquinas, equipamentos e veículos   \n",
       "\n",
       "                    Tipo de credor  \\\n",
       "0  Instituição Financeira Nacional   \n",
       "1  Instituição Financeira Nacional   \n",
       "2  Instituição Financeira Nacional   \n",
       "3  Instituição Financeira Nacional   \n",
       "4  Instituição Financeira Nacional   \n",
       "\n",
       "                                         Credor Moeda         Valor  \\\n",
       "0                       Caixa Econômica Federal  Real    300.000,00   \n",
       "1                       Caixa Econômica Federal  Real    172.700,00   \n",
       "2                       Caixa Econômica Federal  Real    300.000,00   \n",
       "3                       Caixa Econômica Federal  Real    187.200,00   \n",
       "4  Banco de Desenvolvimento de Minas Gerais S/A  Real  1.000.000,00   \n",
       "\n",
       "  Número do Processo/PVL  Código IBGE     Status        Data Analisado por  \n",
       "0   00000.000000/0021-94    3100104.0  Devolvido  19/08/2009           STN  \n",
       "1   17944.000104/2008-22    3100104.0  Arquivado  17/04/2008           STN  \n",
       "2   17944.000953/2009-67    3100104.0   Deferido  20/11/2009           STN  \n",
       "3   17944.001037/2009-44    3100104.0   Deferido  20/11/2009           STN  \n",
       "4   17944.001324/2013-31    3100104.0   Deferido  06/11/2013           STN  "
      ]
     },
     "execution_count": 11,
     "metadata": {},
     "output_type": "execute_result"
    }
   ],
   "source": [
    "oper_cred_estados_municipios.head()"
   ]
  }
 ],
 "metadata": {
  "interpreter": {
   "hash": "4464d9dbd23fbf691df6160c681b6e824ad6882177b08227e79276068f1fbeac"
  },
  "kernelspec": {
   "display_name": "Python 3.10.2 64-bit (windows store)",
   "language": "python",
   "name": "python3"
  },
  "language_info": {
   "codemirror_mode": {
    "name": "ipython",
    "version": 3
   },
   "file_extension": ".py",
   "mimetype": "text/x-python",
   "name": "python",
   "nbconvert_exporter": "python",
   "pygments_lexer": "ipython3",
   "version": "3.10.2"
  },
  "orig_nbformat": 4
 },
 "nbformat": 4,
 "nbformat_minor": 2
}
